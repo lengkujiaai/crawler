{
 "cells": [
  {
   "cell_type": "markdown",
   "metadata": {},
   "source": [
    "----------2021-01-30----------------\n",
    "\n",
    "author: shi_hailong\n",
    "\n",
    "product: hai lingke"
   ]
  },
  {
   "cell_type": "markdown",
   "metadata": {},
   "source": [
    "# 0、引入库"
   ]
  },
  {
   "cell_type": "code",
   "execution_count": 2,
   "metadata": {},
   "outputs": [],
   "source": [
    "import serial\n",
    "import threading\n",
    "import time\n",
    "from IPython.display import clear_output\n",
    "import ctypes\n",
    "import inspect"
   ]
  },
  {
   "cell_type": "markdown",
   "metadata": {},
   "source": [
    "# 1、线程的结束代码"
   ]
  },
  {
   "cell_type": "code",
   "execution_count": 3,
   "metadata": {},
   "outputs": [],
   "source": [
    "def _async_raise(tid, exctype):\n",
    "    tid = ctypes.c_long(tid)\n",
    "    if not inspect.isclass(exctype):\n",
    "        exctype = type(exctype)\n",
    "    res = ctypes.pythonapi.PyThreadState_SetAsyncExc(tid, ctypes.py_object(exctype))\n",
    "    if res == 0:\n",
    "        raise ValueError(\"invalid thread id\")\n",
    "    elif res != 1:\n",
    "        ctypes.pythonapi.PyThreadState_SetAsyncExc(tid, None)\n",
    "        raise SystemError(\"PyThreadState_SetAsyncExc failed\")\n",
    "        \n",
    "def stop_thread(thread):\n",
    "    _async_raise(thread.ident, SystemExit)"
   ]
  },
  {
   "cell_type": "markdown",
   "metadata": {},
   "source": [
    "# 2、配置串行通信"
   ]
  },
  {
   "cell_type": "markdown",
   "metadata": {},
   "source": [
    "执行下面的语句之前一定要先在终端更改/dev/ttyTHS1的权限\n",
    "\n",
    "1、sudo chmod 777 /dev/ttyTHS1\n",
    "\n",
    "2、输入密码"
   ]
  },
  {
   "cell_type": "code",
   "execution_count": 6,
   "metadata": {},
   "outputs": [],
   "source": [
    "xiaoke = serial.Serial(\"/dev/ttyTHS1\",115200,timeout=1)\n",
    "xiaoke.xonxoff = True\n",
    "xiaoke.bytesize = serial.EIGHTBITS\n",
    "xiaoke.stopbits = 1"
   ]
  },
  {
   "cell_type": "markdown",
   "metadata": {},
   "source": [
    "# 000、临时的存储，因为不是专用的语音识别模块，所以先用一下，到后面定制了，就不需要这几行代码了"
   ]
  },
  {
   "cell_type": "code",
   "execution_count": 11,
   "metadata": {},
   "outputs": [],
   "source": [
    "should_pronounce = {'openkongtiao':'forward','closekongtiao':'backward','guanbikaiguan':'stop', 'dakaizaoming':'left','guanbizhaoming':'right','guabdianfangbao':'middle'}"
   ]
  },
  {
   "cell_type": "code",
   "execution_count": 12,
   "metadata": {},
   "outputs": [],
   "source": [
    "#a =['openkongtiao','closekongtiao','guanbikaiguan','dakaizaoming','guanbizhaoming','guabdianfangbao']"
   ]
  },
  {
   "cell_type": "code",
   "execution_count": 19,
   "metadata": {},
   "outputs": [
    {
     "name": "stdout",
     "output_type": "stream",
     "text": [
      "dict_keys(['openkongtiao', 'closekongtiao', 'guanbikaiguan', 'dakaizaoming', 'guanbizhaoming', 'guabdianfangbao'])\n",
      "openkongtiao\n",
      "closekongtiao\n",
      "guanbikaiguan\n",
      "dakaizaoming\n",
      "guanbizhaoming\n",
      "guabdianfangbao\n"
     ]
    }
   ],
   "source": [
    "should_pronounce.values()\n",
    "b = should_pronounce.keys()\n",
    "print(b)\n",
    "for i in b:\n",
    "    print(i)"
   ]
  },
  {
   "cell_type": "markdown",
   "metadata": {},
   "source": [
    "# 3、解析语音识别的反馈信息"
   ]
  },
  {
   "cell_type": "code",
   "execution_count": 7,
   "metadata": {},
   "outputs": [],
   "source": [
    "def getInfo():\n",
    "    while True:\n",
    "        while xiaoke.inWaiting()>0:\n",
    "            try:\n",
    "                myout=xiaoke.readline()\n",
    "                clear_output(True)\n",
    "                print(myout)\n",
    "                s = str(myout)\n",
    "                if 'open' in s:\n",
    "                    print('----open----')\n",
    "            except Exception as e:\n",
    "                print('exception----')\n",
    "                return 1"
   ]
  },
  {
   "cell_type": "markdown",
   "metadata": {},
   "source": [
    "# 4、开始线程获取语音识别结果"
   ]
  },
  {
   "cell_type": "code",
   "execution_count": 8,
   "metadata": {},
   "outputs": [
    {
     "name": "stdout",
     "output_type": "stream",
     "text": [
      "b'uArTcP\\x02\\x00\\x03\\xe9G\\x1c\\x00\\r\\xd1\\xadclosekongtiao'\n"
     ]
    }
   ],
   "source": [
    "\n",
    "t = threading.Thread(target=getInfo)\n",
    "t.setDaemon(True)\n",
    "t.start()"
   ]
  },
  {
   "cell_type": "markdown",
   "metadata": {},
   "source": [
    "# 5、结束线程"
   ]
  },
  {
   "cell_type": "code",
   "execution_count": 9,
   "metadata": {},
   "outputs": [],
   "source": [
    "stop_thread(t)"
   ]
  },
  {
   "cell_type": "code",
   "execution_count": null,
   "metadata": {},
   "outputs": [],
   "source": []
  }
 ],
 "metadata": {
  "kernelspec": {
   "display_name": "Python 3",
   "language": "python",
   "name": "python3"
  },
  "language_info": {
   "codemirror_mode": {
    "name": "ipython",
    "version": 3
   },
   "file_extension": ".py",
   "mimetype": "text/x-python",
   "name": "python",
   "nbconvert_exporter": "python",
   "pygments_lexer": "ipython3",
   "version": "3.6.9"
  }
 },
 "nbformat": 4,
 "nbformat_minor": 4
}
