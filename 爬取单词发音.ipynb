{
 "cells": [
  {
   "cell_type": "code",
   "execution_count": 9,
   "metadata": {},
   "outputs": [
    {
     "data": {
      "text/plain": [
       "('C:\\\\Users\\\\lengk\\\\Desktop\\\\20180823\\\\sound\\\\b.mp3',\n",
       " <http.client.HTTPMessage at 0x1c7a783ac88>)"
      ]
     },
     "execution_count": 9,
     "metadata": {},
     "output_type": "execute_result"
    }
   ],
   "source": [
    "import urllib.request\n",
    "\n",
    "\n",
    "sound='https://sp0.baidu.com/-rM1hT4a2gU2pMbgoY3K/gettts?lan=en&text='  +  'holiday'  +  '&spd=2&source=alading'\n",
    "\n",
    "saveUrl = 'C:\\\\Users\\\\lengk\\\\Desktop\\\\20180823\\\\sound\\\\' + 'b'+'.mp3'\n",
    "\n",
    "urllib.request.urlretrieve(sound,saveUrl )"
   ]
  },
  {
   "cell_type": "code",
   "execution_count": 86,
   "metadata": {},
   "outputs": [
    {
     "name": "stdout",
     "output_type": "stream",
     "text": [
      "learned%20Chinese\n",
      "sang%20and%20danced\n",
      "ate%20good%20food\n",
      "took%20pictures\n",
      "climbed\n",
      "bought%20presents\n",
      "rowed%20a%20boat\n",
      "saw%20elephant\n",
      "went%20skiing\n",
      "went%20ice-skating\n",
      "how\n",
      "got\n",
      "last\n"
     ]
    }
   ],
   "source": [
    "import urllib.request\n",
    "\n",
    "\n",
    "sounda='https://sp0.baidu.com/-rM1hT4a2gU2pMbgoY3K/gettts?lan=en&text='\n",
    "soundb= '&spd=2&source=alading'\n",
    "\n",
    "saveUrla = 'C:\\\\Users\\\\lengk\\\\Desktop\\\\20180823\\\\sound\\\\'\n",
    "saveUrlb='.mp3'\n",
    "\n",
    "nli = ['learned%20Chinese', 'sang%20and%20danced', 'ate%20good%20food', 'took%20pictures', 'climbed', 'bought%20presents', 'rowed%20a%20boat', 'saw%20elephant', 'went%20skiing', 'went%20ice-skating', 'how', 'got', 'last']\n",
    "\n",
    "\n",
    "\n",
    "for item in nli:\n",
    "    print(item)\n",
    "    sound = sounda + item +soundb\n",
    "    saveUrl = saveUrla + 'pep6bUnit4\\\\'+item + saveUrlb\n",
    "    urllib.request.urlretrieve(sound,saveUrl )"
   ]
  }
 ],
 "metadata": {
  "kernelspec": {
   "display_name": "Python 3",
   "language": "python",
   "name": "python3"
  },
  "language_info": {
   "codemirror_mode": {
    "name": "ipython",
    "version": 3
   },
   "file_extension": ".py",
   "mimetype": "text/x-python",
   "name": "python",
   "nbconvert_exporter": "python",
   "pygments_lexer": "ipython3",
   "version": "3.5.5"
  }
 },
 "nbformat": 4,
 "nbformat_minor": 2
}
