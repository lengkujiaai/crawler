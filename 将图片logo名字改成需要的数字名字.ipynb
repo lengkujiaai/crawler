{
 "cells": [
  {
   "cell_type": "code",
   "execution_count": 27,
   "metadata": {},
   "outputs": [],
   "source": [
    "import os\n",
    "import xlrd\n",
    "import re\n",
    "import xlwt\n",
    "path = 'C:\\\\Users\\\\lengk\\\\Desktop\\\\20180828\\\\createSchoolid8.xls'\n",
    "\n",
    "filepath = 'C:\\\\Users\\\\lengk\\\\Desktop\\\\20180828\\\\logo8'\n",
    "\n",
    "if not os.path.exists(filepath):\n",
    "    print(\"目录不存在!!\")\n",
    "    os._exit(1)\n",
    "filenames = os.listdir(filepath)\n",
    "\n",
    "\n",
    "data = xlrd.open_workbook(path)\n",
    "mySheet =0\n",
    "table = data.sheets()[mySheet]\n",
    "\n",
    "for filename in filenames:\n",
    "    rows = table.nrows\n",
    "    row = 1 \n",
    "    while row < rows:\n",
    "        logoName = table.cell(row,3).value\n",
    "        logoid = table.cell(row,4).value\n",
    "        try:\n",
    "            newname = str(int(logoid)) + '.jpg'\n",
    "        except:\n",
    "            newname =filename\n",
    "        if(logoName == filename):\n",
    "            os.rename(filepath + '\\\\' +filename  ,filepath + '\\\\' +newname )\n",
    "            break\n",
    "        else:\n",
    "            try:\n",
    "                logoName = table.cell(row,3).value\n",
    "            except:\n",
    "                a = 0 #a没有意义\n",
    "        row +=1"
   ]
  }
 ],
 "metadata": {
  "kernelspec": {
   "display_name": "Python 3",
   "language": "python",
   "name": "python3"
  },
  "language_info": {
   "codemirror_mode": {
    "name": "ipython",
    "version": 3
   },
   "file_extension": ".py",
   "mimetype": "text/x-python",
   "name": "python",
   "nbconvert_exporter": "python",
   "pygments_lexer": "ipython3",
   "version": "3.5.5"
  }
 },
 "nbformat": 4,
 "nbformat_minor": 2
}
