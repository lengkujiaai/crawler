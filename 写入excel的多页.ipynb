{
 "cells": [
  {
   "cell_type": "code",
   "execution_count": 19,
   "metadata": {
    "collapsed": true
   },
   "outputs": [],
   "source": [
    "import xlrd\n",
    "import re\n",
    "import xlwt\n",
    "path = 'C:\\\\Users\\\\lengk\\\\Desktop\\\\20180823\\\\2province.xlsx'\n",
    "# initial sheet\n",
    "\n",
    "\n",
    "def changeSheet(table):\n",
    "    rows = table.nrows\n",
    "    row = 0\n",
    "    while row < rows:\n",
    "        degree = table.cell(row,2).value\n",
    "        school = table.cell(row,1).value\n",
    "        pro = table.cell(row,3).value\n",
    "        # ------*本科*,.*------\n",
    "        degrees = '*' + degree + '*,.*'\n",
    "        a = pro.replace(',' , degrees)\n",
    "        c = '.*' + a + '*' + degree + '*'\n",
    "        worksheet.write(row, 2, c)\n",
    "        worksheet.write(row, 1, school)\n",
    "        row = row + 1               \n",
    "\n",
    "        \n",
    "data = xlrd.open_workbook(path)\n",
    "mySheet =0\n",
    "table = data.sheets()[mySheet]\n",
    "workbook = xlwt.Workbook(encoding = 'ascii')\n",
    "worksheet = workbook.add_sheet(str(mySheet))\n",
    "changeSheet(table)\n",
    "\n",
    "\n",
    "def changeExcel(path):\n",
    "    data = xlrd.open_workbook(path)\n",
    "    sheetNum = len(data.sheets()) #total sheets\n",
    "    #for sheet  in data.sheets():\n",
    "        #provinceName = sheet.name\n",
    "    mySheet =0\n",
    "    worksheet = workbook.add_sheet(str(mySheet))\n",
    "    while mySheet < sheetNum:\n",
    "        table = data.sheets()[mySheet]\n",
    "        changeSheet(table)\n",
    "    \n",
    "workbook.save('C:\\\\Users\\\\lengk\\\\Desktop\\\\20180823\\\\test.xls')"
   ]
  }
 ],
 "metadata": {
  "kernelspec": {
   "display_name": "Python 3",
   "language": "python",
   "name": "python3"
  },
  "language_info": {
   "codemirror_mode": {
    "name": "ipython",
    "version": 3
   },
   "file_extension": ".py",
   "mimetype": "text/x-python",
   "name": "python",
   "nbconvert_exporter": "python",
   "pygments_lexer": "ipython3",
   "version": "3.5.5"
  }
 },
 "nbformat": 4,
 "nbformat_minor": 2
}
