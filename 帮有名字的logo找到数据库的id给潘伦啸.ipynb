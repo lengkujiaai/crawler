{
 "cells": [
  {
   "cell_type": "code",
   "execution_count": 15,
   "metadata": {},
   "outputs": [],
   "source": [
    "import xlrd\n",
    "import re\n",
    "import xlwt\n",
    "path = 'C:\\\\Users\\\\lengk\\\\Desktop\\\\20180828\\\\schoolid.xls'\n",
    "# initial sheet\n",
    "\n",
    "\n",
    "def changeSheet(table):\n",
    "    rows = table.nrows\n",
    "    row = 2\n",
    "    #while row < 3:\n",
    "    while row < rows:\n",
    "        schoolid = table.cell(row,0).value    #潘伦啸要学校id做成logo的名字\n",
    "        schoolName = table.cell(row,1).value  #对应id的学校名字\n",
    "        logoName = table.cell(row,2).value    #现在的需要被改成id的logo名字\n",
    "        logoSchool = table.cell(row,3).value  #已经有logo的学校\n",
    "        var =2\n",
    "        while var < rows:\n",
    "            if(logoSchool == schoolName):\n",
    "                newlogoName = schoolid \n",
    "                break\n",
    "            else:\n",
    "                newlogoName = ''\n",
    "                try:\n",
    "                    schoolName = table.cell(var,1).value\n",
    "                except:\n",
    "                    a = 0 #a没有意义\n",
    "            var +=1\n",
    "            try:\n",
    "                schoolid = table.cell(var,0).value    #潘伦啸要学校id做成logo的名字\n",
    "                schoolName = table.cell(var,1).value  #对应id的学校名字\n",
    "            except:\n",
    "                a = 0\n",
    "        if(var ==rows):\n",
    "            newlogoName = ''\n",
    "        worksheet.write(row, 3, logoName)\n",
    "        worksheet.write(row, 4, newlogoName)\n",
    "        row = row + 1               \n",
    "\n",
    "        \n",
    "data = xlrd.open_workbook(path)\n",
    "mySheet =0\n",
    "table = data.sheets()[mySheet]\n",
    "workbook = xlwt.Workbook(encoding = 'ascii')\n",
    "worksheet = workbook.add_sheet(str(mySheet))\n",
    "changeSheet(table)\n",
    "\n",
    "\n",
    "workbook.save('C:\\\\Users\\\\lengk\\\\Desktop\\\\20180828\\\\createSchoolid8.xls')"
   ]
  }
 ],
 "metadata": {
  "kernelspec": {
   "display_name": "Python 3",
   "language": "python",
   "name": "python3"
  },
  "language_info": {
   "codemirror_mode": {
    "name": "ipython",
    "version": 3
   },
   "file_extension": ".py",
   "mimetype": "text/x-python",
   "name": "python",
   "nbconvert_exporter": "python",
   "pygments_lexer": "ipython3",
   "version": "3.5.5"
  }
 },
 "nbformat": 4,
 "nbformat_minor": 2
}
