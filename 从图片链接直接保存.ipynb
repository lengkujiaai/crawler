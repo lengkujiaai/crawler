{
 "cells": [
  {
   "cell_type": "code",
   "execution_count": 4,
   "metadata": {},
   "outputs": [
    {
     "data": {
      "text/plain": [
       "('C:\\\\Users\\\\lengk\\\\Desktop\\\\20180823\\\\test1\\\\a.mp3',\n",
       " <http.client.HTTPMessage at 0x151282c0320>)"
      ]
     },
     "execution_count": 4,
     "metadata": {},
     "output_type": "execute_result"
    }
   ],
   "source": [
    "import urllib.request\n",
    "#import requests\n",
    "#from PIL import Image\n",
    "#from io import BytesIO\n",
    "img_src ='https://school-icon.b0.upaiyun.com/52ac2e9a747aec013fcf51e2.jpg'\n",
    "\n",
    "#response = requests.get(img_src)\n",
    "#image = Image.open(BytesIO(response.content))\n",
    "#image.save()\n",
    "urllib.request.urlretrieve(img_src, 'C:\\\\Users\\\\lengk\\\\Desktop\\\\20180823\\\\test\\\\a.png')"
   ]
  },
  {
   "cell_type": "code",
   "execution_count": 4,
   "metadata": {},
   "outputs": [
    {
     "ename": "ImportError",
     "evalue": "No module named 'xlrd'",
     "output_type": "error",
     "traceback": [
      "\u001b[1;31m---------------------------------------------------------------------------\u001b[0m",
      "\u001b[1;31mImportError\u001b[0m                               Traceback (most recent call last)",
      "\u001b[1;32m<ipython-input-4-d54237159ec6>\u001b[0m in \u001b[0;36m<module>\u001b[1;34m()\u001b[0m\n\u001b[0;32m      1\u001b[0m \u001b[1;32mimport\u001b[0m \u001b[0murllib\u001b[0m\u001b[1;33m.\u001b[0m\u001b[0mrequest\u001b[0m\u001b[1;33m\u001b[0m\u001b[0m\n\u001b[1;32m----> 2\u001b[1;33m \u001b[1;32mimport\u001b[0m \u001b[0mxlrd\u001b[0m\u001b[1;33m\u001b[0m\u001b[0m\n\u001b[0m\u001b[0;32m      3\u001b[0m \u001b[1;32mimport\u001b[0m \u001b[0mre\u001b[0m\u001b[1;33m\u001b[0m\u001b[0m\n\u001b[0;32m      4\u001b[0m \u001b[1;32mimport\u001b[0m \u001b[0mxlwt\u001b[0m\u001b[1;33m\u001b[0m\u001b[0m\n\u001b[0;32m      5\u001b[0m \u001b[0mpath\u001b[0m \u001b[1;33m=\u001b[0m \u001b[1;34m'C:\\\\Users\\\\lengk\\\\Desktop\\\\20180823\\\\schoolid.xls'\u001b[0m\u001b[1;33m\u001b[0m\u001b[0m\n",
      "\u001b[1;31mImportError\u001b[0m: No module named 'xlrd'"
     ]
    }
   ],
   "source": [
    "import urllib.request\n",
    "import xlrd\n",
    "import re\n",
    "import xlwt\n",
    "path = 'C:\\\\Users\\\\lengk\\\\Desktop\\\\20180823\\\\schoolid.xls'\n",
    "savepath = 'C:\\\\Users\\\\lengk\\\\Desktop\\\\20180823\\\\test\\\\'\n",
    "# initial sheet\n",
    "\n",
    "\n",
    "def changeSheet(table):\n",
    "    rows = table.nrows\n",
    "    row = 2\n",
    "    #while row < 3:\n",
    "    while row < rows:\n",
    "        img_id = table.cell(row,0).value    #潘伦啸要学校id做成logo的名字\n",
    "        schoolName = table.cell(row,1).value  #对应id的学校名字\n",
    "        img_src = table.cell(row,2).value    #取出图片的链接地址\n",
    "        logoSchool = table.cell(row,3).value  #已经有logo的学校\n",
    "        var =2\n",
    "        while var < rows:\n",
    "            if(logoSchool == schoolName):\n",
    "                newlogoName = schoolid \n",
    "                break\n",
    "            else:\n",
    "                newlogoName = ''\n",
    "            var +=1\n",
    "            try:\n",
    "                img_id = table.cell(var,0).value    #潘伦啸要学校id做成logo的名字\n",
    "                schoolName = table.cell(var,1).value  #对应id的学校名字\n",
    "            except:\n",
    "                a = 0\n",
    "        if(var ==rows):\n",
    "            newlogoName = ''\n",
    "        worksheet.write(row, 3, logoName)\n",
    "        urllib.request.urlretrieve(img_src, 'C:\\\\Users\\\\lengk\\\\Desktop\\\\20180823\\\\test\\\\a.jpg')\n",
    "        row = row + 1               \n",
    "\n",
    "        \n",
    "data = xlrd.open_workbook(path)\n",
    "mySheet =0\n",
    "table = data.sheets()[mySheet]\n",
    "#changeSheet(table)\n"
   ]
  },
  {
   "cell_type": "code",
   "execution_count": null,
   "metadata": {},
   "outputs": [],
   "source": []
  }
 ],
 "metadata": {
  "kernelspec": {
   "display_name": "Python 3",
   "language": "python",
   "name": "python3"
  },
  "language_info": {
   "codemirror_mode": {
    "name": "ipython",
    "version": 3
   },
   "file_extension": ".py",
   "mimetype": "text/x-python",
   "name": "python",
   "nbconvert_exporter": "python",
   "pygments_lexer": "ipython3",
   "version": "3.5.5"
  }
 },
 "nbformat": 4,
 "nbformat_minor": 2
}
