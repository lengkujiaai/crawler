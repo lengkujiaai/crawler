{
 "cells": [
  {
   "cell_type": "code",
   "execution_count": 54,
   "metadata": {},
   "outputs": [
    {
     "name": "stdout",
     "output_type": "stream",
     "text": [
      "第一页\n",
      "0\n",
      "第二页\n",
      "1\n",
      "第三页\n",
      "2\n",
      "第四页\n",
      "3\n"
     ]
    }
   ],
   "source": [
    "import xlrd\n",
    "import re\n",
    "import xlwt\n",
    "path = 'C:\\\\Users\\\\lengk\\\\Desktop\\\\20180823\\\\'\n",
    "openFile ='duoye.xlsx'\n",
    "saveFile ='duoyeCreate.xls'\n",
    "#ata = xlrd.open_workbook(path)\n",
    "#orkbook = xlwt.Workbook(encoding = 'ascii')\n",
    "#heetNum = len(data.sheets()) #print(sheetNum)\n",
    "\n",
    "def changeSheet(table):\n",
    "    rows = table.nrows\n",
    "    row = 0\n",
    "    while row < rows:\n",
    "        degree = table.cell(row,2).value\n",
    "        school = table.cell(row,1).value\n",
    "        pro = table.cell(row,3).value\n",
    "        # ------*本科*,.*------\n",
    "        degrees = '*' + degree + '*,.*'\n",
    "        a = pro.replace(',' , degrees)\n",
    "        c = '.*' + a + '*' + degree + '*'\n",
    "        worksheet.write(row, 2, c)\n",
    "        worksheet.write(row, 1, school)\n",
    "        row = row + 1               \n",
    "\n",
    "#mySheet =0\n",
    "#table = data.sheets()[mySheet]\n",
    "#worksheet = workbook.add_sheet(str(mySheet))\n",
    "#changeSheet(table)\n",
    "#mySheet =1\n",
    "#table = data.sheets()[mySheet]\n",
    "#worksheet = workbook.add_sheet(str(mySheet))\n",
    "#changeSheet(table)\n",
    "\n",
    "#def mulPage(path,createname):        \n",
    "data = xlrd.open_workbook(path+openFile)\n",
    "workbook = xlwt.Workbook(encoding = 'ascii')\n",
    "sheetNum = len(data.sheets()) #print(sheetNum)\n",
    "i = 0\n",
    "for c in data.sheet_names():#c是表名\n",
    "    print(c)\n",
    "    table = data.sheets()[i]#sheets()后面需要给第几页，数字序号\n",
    "    worksheet = workbook.add_sheet(str(c))#将表名存进去\n",
    "    changeSheet(table)\n",
    "    print(i)\n",
    "    i += 1\n",
    "workbook.save(path+saveFile)\n",
    "    \n",
    "#mulPage(path,createname)\n"
   ]
  },
  {
   "cell_type": "code",
   "execution_count": null,
   "metadata": {},
   "outputs": [],
   "source": []
  }
 ],
 "metadata": {
  "kernelspec": {
   "display_name": "Python 3",
   "language": "python",
   "name": "python3"
  },
  "language_info": {
   "codemirror_mode": {
    "name": "ipython",
    "version": 3
   },
   "file_extension": ".py",
   "mimetype": "text/x-python",
   "name": "python",
   "nbconvert_exporter": "python",
   "pygments_lexer": "ipython3",
   "version": "3.6.5"
  }
 },
 "nbformat": 4,
 "nbformat_minor": 2
}
